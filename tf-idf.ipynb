{
 "cells": [
  {
   "cell_type": "code",
   "execution_count": 1,
   "id": "ea4cd297-795e-40bd-8845-3429db40eee0",
   "metadata": {},
   "outputs": [
    {
     "name": "stdout",
     "output_type": "stream",
     "text": [
      "                            Title  review/score  \\\n",
      "0  Its Only Art If Its Well Hung!           4.0   \n",
      "1        Dr. Seuss: American Icon           5.0   \n",
      "2        Dr. Seuss: American Icon           5.0   \n",
      "3        Dr. Seuss: American Icon           4.0   \n",
      "4        Dr. Seuss: American Icon           4.0   \n",
      "\n",
      "                                    review/summary  \\\n",
      "0           Nice collection of Julie Strain images   \n",
      "1                                Really Enjoyed It   \n",
      "2  Essential for every personal and Public Library   \n",
      "3  Phlip Nel gives silly Seuss a serious treatment   \n",
      "4                           Good academic overview   \n",
      "\n",
      "                                         review/text  \n",
      "0  This is only for Julie Strain fans. It's a col...  \n",
      "1  I don't care much for Dr. Seuss but after read...  \n",
      "2  If people become the books they read and if \"t...  \n",
      "3  Theodore Seuss Geisel (1904-1991), aka &quot;D...  \n",
      "4  Philip Nel - Dr. Seuss: American IconThis is b...  \n"
     ]
    }
   ],
   "source": [
    "import pandas as pd\n",
    "\n",
    "books_rating_df = pd.read_csv('Books_rating.csv', \n",
    "                              usecols=['Title', 'review/summary', 'review/score', 'review/text'], \n",
    "                              nrows=1000)\n",
    "\n",
    "print(books_rating_df.head())"
   ]
  },
  {
   "cell_type": "code",
   "execution_count": 2,
   "id": "d113f6c6-da92-45e7-8638-7bb6d8ddeffa",
   "metadata": {},
   "outputs": [
    {
     "name": "stdout",
     "output_type": "stream",
     "text": [
      "(1000, 5000)\n"
     ]
    }
   ],
   "source": [
    "from sklearn.feature_extraction.text import TfidfVectorizer\n",
    "\n",
    "vectorizer = TfidfVectorizer(stop_words='english', max_features=5000)\n",
    "\n",
    "# Fit and transform the review text to a TF-IDF matrix\n",
    "tfidf_matrix = vectorizer.fit_transform(books_rating_df['review/text'].fillna(''))\n",
    "\n",
    "print(tfidf_matrix.shape)"
   ]
  },
  {
   "cell_type": "code",
   "execution_count": 3,
   "id": "2748b62a-72a1-42ed-b54a-a0c196a22a03",
   "metadata": {},
   "outputs": [
    {
     "name": "stdout",
     "output_type": "stream",
     "text": [
      "(1000, 1000)\n"
     ]
    }
   ],
   "source": [
    "from sklearn.metrics.pairwise import cosine_similarity\n",
    "\n",
    "# Compute cosine similarity matrix\n",
    "cosine_sim = cosine_similarity(tfidf_matrix, tfidf_matrix)\n",
    "\n",
    "print(cosine_sim.shape)"
   ]
  },
  {
   "cell_type": "code",
   "execution_count": 4,
   "id": "abe2744a-410e-47b7-82f5-0bbf3e79bcd4",
   "metadata": {},
   "outputs": [],
   "source": [
    "def recommend_books(title, cosine_sim=cosine_sim):\n",
    "    idx = books_rating_df[books_rating_df['Title'] == title].index[0]\n",
    "    sim_scores = list(enumerate(cosine_sim[idx]))\n",
    "    sim_scores = sorted(sim_scores, key=lambda x: x[1], reverse=True)\n",
    "    sim_scores = sim_scores[1:6]  # Exclude the first match (itself) and get top 5\n",
    "    book_indices = [i[0] for i in sim_scores]\n",
    "    return books_rating_df['Title'].iloc[book_indices]"
   ]
  },
  {
   "cell_type": "code",
   "execution_count": null,
   "id": "8365478a-a7e9-455b-8df7-f433821e8e0e",
   "metadata": {},
   "outputs": [],
   "source": [
    "\n",
    "# Example: Recommend books similar to a given title\n",
    "recommended_books = recommend_books('Some Book Title')\n",
    "print(recommended_books)"
   ]
  }
 ],
 "metadata": {
  "kernelspec": {
   "display_name": "Python 3 (ipykernel)",
   "language": "python",
   "name": "python3"
  },
  "language_info": {
   "codemirror_mode": {
    "name": "ipython",
    "version": 3
   },
   "file_extension": ".py",
   "mimetype": "text/x-python",
   "name": "python",
   "nbconvert_exporter": "python",
   "pygments_lexer": "ipython3",
   "version": "3.12.3"
  }
 },
 "nbformat": 4,
 "nbformat_minor": 5
}
